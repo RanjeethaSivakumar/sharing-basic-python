{
 "cells": [
  {
   "cell_type": "code",
   "execution_count": 1,
   "metadata": {},
   "outputs": [
    {
     "name": "stdout",
     "output_type": "stream",
     "text": [
      "HELLO ,HOW ARE YOU\n"
     ]
    }
   ],
   "source": [
    "#prg  for use of print()\n",
    "print(\"HELLO ,HOW ARE YOU\")"
   ]
  },
  {
   "cell_type": "code",
   "execution_count": null,
   "metadata": {},
   "outputs": [],
   "source": []
  },
  {
   "cell_type": "code",
   "execution_count": 2,
   "metadata": {},
   "outputs": [
    {
     "name": "stdout",
     "output_type": "stream",
     "text": [
      "33\n"
     ]
    }
   ],
   "source": [
    "X= 10 \n",
    "Y=23\n",
    "Z=X+Y\n",
    "print(Z)"
   ]
  },
  {
   "cell_type": "code",
   "execution_count": 3,
   "metadata": {},
   "outputs": [
    {
     "name": "stdout",
     "output_type": "stream",
     "text": [
      "23\n",
      "x\n"
     ]
    }
   ],
   "source": [
    "#use of print() for variables\n",
    "x= 23\n",
    "print(x)\n",
    "print(\"x\")"
   ]
  },
  {
   "cell_type": "code",
   "execution_count": 4,
   "metadata": {},
   "outputs": [
    {
     "name": "stdout",
     "output_type": "stream",
     "text": [
      "a\n"
     ]
    }
   ],
   "source": [
    "a=\"hello\"\n",
    "print(\"a\")"
   ]
  },
  {
   "cell_type": "code",
   "execution_count": 5,
   "metadata": {},
   "outputs": [
    {
     "name": "stdout",
     "output_type": "stream",
     "text": [
      "hello\n"
     ]
    }
   ],
   "source": [
    "a=\"hello\"\n",
    "print(a)"
   ]
  },
  {
   "cell_type": "code",
   "execution_count": 6,
   "metadata": {},
   "outputs": [
    {
     "name": "stdout",
     "output_type": "stream",
     "text": [
      "Mickey\n",
      "Donald\n",
      "Mini\n"
     ]
    }
   ],
   "source": [
    "#Assigning values to multiple variables in a statement \n",
    "x,y,z=\"Mickey\",\"Donald\",\"Mini\"\n",
    "print(x)\n",
    "print(y)\n",
    "print(z)"
   ]
  },
  {
   "cell_type": "code",
   "execution_count": 7,
   "metadata": {},
   "outputs": [
    {
     "ename": "NameError",
     "evalue": "name 'pencil' is not defined",
     "output_type": "error",
     "traceback": [
      "\u001b[1;31m---------------------------------------------------------------------------\u001b[0m",
      "\u001b[1;31mNameError\u001b[0m                                 Traceback (most recent call last)",
      "\u001b[1;32m<ipython-input-7-6efec41c2e0e>\u001b[0m in \u001b[0;36m<module>\u001b[1;34m\u001b[0m\n\u001b[1;32m----> 1\u001b[1;33m \u001b[0mx\u001b[0m\u001b[1;33m=\u001b[0m\u001b[0my\u001b[0m\u001b[1;33m=\u001b[0m\u001b[0mz\u001b[0m\u001b[1;33m=\u001b[0m\u001b[0mpencil\u001b[0m\u001b[1;33m\u001b[0m\u001b[1;33m\u001b[0m\u001b[0m\n\u001b[0m\u001b[0;32m      2\u001b[0m \u001b[0mprint\u001b[0m\u001b[1;33m(\u001b[0m\u001b[0mx\u001b[0m\u001b[1;33m)\u001b[0m\u001b[1;33m\u001b[0m\u001b[1;33m\u001b[0m\u001b[0m\n\u001b[0;32m      3\u001b[0m \u001b[0mprint\u001b[0m\u001b[1;33m(\u001b[0m\u001b[0my\u001b[0m\u001b[1;33m)\u001b[0m\u001b[1;33m\u001b[0m\u001b[1;33m\u001b[0m\u001b[0m\n\u001b[0;32m      4\u001b[0m \u001b[0mprint\u001b[0m\u001b[1;33m(\u001b[0m\u001b[0mz\u001b[0m\u001b[1;33m)\u001b[0m\u001b[1;33m\u001b[0m\u001b[1;33m\u001b[0m\u001b[0m\n",
      "\u001b[1;31mNameError\u001b[0m: name 'pencil' is not defined"
     ]
    }
   ],
   "source": [
    "x=y=z=pencil\n",
    "print(x)\n",
    "print(y)\n",
    "print(z)"
   ]
  },
  {
   "cell_type": "code",
   "execution_count": 8,
   "metadata": {},
   "outputs": [
    {
     "name": "stdout",
     "output_type": "stream",
     "text": [
      "pencil\n",
      "pencil\n",
      "pencil\n"
     ]
    }
   ],
   "source": [
    "#Assigning same value to mutliple variables \n",
    "x=y=z=\"pencil\"\n",
    "print(x)\n",
    "print(y)\n",
    "print(z)"
   ]
  },
  {
   "cell_type": "code",
   "execution_count": 9,
   "metadata": {},
   "outputs": [
    {
     "name": "stdout",
     "output_type": "stream",
     "text": [
      "20\n"
     ]
    }
   ],
   "source": [
    "age=20\n",
    "Age=35\n",
    "AGE=56\n",
    "print(age)"
   ]
  },
  {
   "cell_type": "code",
   "execution_count": 10,
   "metadata": {},
   "outputs": [
    {
     "name": "stdout",
     "output_type": "stream",
     "text": [
      "56\n"
     ]
    }
   ],
   "source": [
    "print(AGE)"
   ]
  },
  {
   "cell_type": "code",
   "execution_count": 11,
   "metadata": {},
   "outputs": [
    {
     "ename": "NameError",
     "evalue": "name 'aGE' is not defined",
     "output_type": "error",
     "traceback": [
      "\u001b[1;31m---------------------------------------------------------------------------\u001b[0m",
      "\u001b[1;31mNameError\u001b[0m                                 Traceback (most recent call last)",
      "\u001b[1;32m<ipython-input-11-5c715487b017>\u001b[0m in \u001b[0;36m<module>\u001b[1;34m\u001b[0m\n\u001b[1;32m----> 1\u001b[1;33m \u001b[0mprint\u001b[0m\u001b[1;33m(\u001b[0m\u001b[0maGE\u001b[0m\u001b[1;33m)\u001b[0m\u001b[1;33m\u001b[0m\u001b[1;33m\u001b[0m\u001b[0m\n\u001b[0m",
      "\u001b[1;31mNameError\u001b[0m: name 'aGE' is not defined"
     ]
    }
   ],
   "source": [
    "print(aGE)"
   ]
  },
  {
   "cell_type": "code",
   "execution_count": 12,
   "metadata": {},
   "outputs": [
    {
     "name": "stdout",
     "output_type": "stream",
     "text": [
      "*\n"
     ]
    }
   ],
   "source": [
    "print(\"*\")"
   ]
  },
  {
   "cell_type": "code",
   "execution_count": 13,
   "metadata": {},
   "outputs": [
    {
     "name": "stdout",
     "output_type": "stream",
     "text": [
      "5$@##%$#$^#$^$%&$%&\n"
     ]
    }
   ],
   "source": [
    "print(\"5$@##%$#$^#$^$%&$%&\")"
   ]
  },
  {
   "cell_type": "code",
   "execution_count": 14,
   "metadata": {},
   "outputs": [
    {
     "name": "stdout",
     "output_type": "stream",
     "text": [
      "20\n",
      "87\n"
     ]
    }
   ],
   "source": [
    "print(age)\n",
    "age=87\n",
    "print(age)"
   ]
  },
  {
   "cell_type": "code",
   "execution_count": 15,
   "metadata": {},
   "outputs": [
    {
     "name": "stdout",
     "output_type": "stream",
     "text": [
      "<class 'int'>\n"
     ]
    }
   ],
   "source": [
    "\n",
    "print(type(age))"
   ]
  },
  {
   "cell_type": "code",
   "execution_count": 16,
   "metadata": {},
   "outputs": [
    {
     "name": "stdout",
     "output_type": "stream",
     "text": [
      "<class 'str'>\n"
     ]
    }
   ],
   "source": [
    "name=\"text\"\n",
    "print(type(name))"
   ]
  },
  {
   "cell_type": "code",
   "execution_count": 17,
   "metadata": {},
   "outputs": [
    {
     "name": "stdout",
     "output_type": "stream",
     "text": [
      "<class 'float'>\n"
     ]
    }
   ],
   "source": [
    "x=3443.456\n",
    "print(type(x))"
   ]
  },
  {
   "cell_type": "code",
   "execution_count": 4,
   "metadata": {},
   "outputs": [
    {
     "name": "stdout",
     "output_type": "stream",
     "text": [
      "<class 'float'>\n",
      "2334.6775\n"
     ]
    }
   ],
   "source": [
    "x= 2334.6775\n",
    "print(type(x))# to find the datatype of the  variable x \n",
    "print(x)"
   ]
  },
  {
   "cell_type": "code",
   "execution_count": 5,
   "metadata": {},
   "outputs": [
    {
     "ename": "TypeError",
     "evalue": "can't multiply sequence by non-int of type 'str'",
     "output_type": "error",
     "traceback": [
      "\u001b[1;31m---------------------------------------------------------------------------\u001b[0m",
      "\u001b[1;31mTypeError\u001b[0m                                 Traceback (most recent call last)",
      "\u001b[1;32m<ipython-input-5-a5e923c741dc>\u001b[0m in \u001b[0;36m<module>\u001b[1;34m\u001b[0m\n\u001b[0;32m      1\u001b[0m \u001b[0mx\u001b[0m\u001b[1;33m=\u001b[0m\u001b[1;34m\"6\"\u001b[0m\u001b[1;33m\u001b[0m\u001b[1;33m\u001b[0m\u001b[0m\n\u001b[0;32m      2\u001b[0m \u001b[0my\u001b[0m\u001b[1;33m=\u001b[0m\u001b[1;34m\"7\"\u001b[0m\u001b[1;33m\u001b[0m\u001b[1;33m\u001b[0m\u001b[0m\n\u001b[1;32m----> 3\u001b[1;33m \u001b[0mp\u001b[0m\u001b[1;33m=\u001b[0m\u001b[0mx\u001b[0m\u001b[1;33m*\u001b[0m\u001b[0my\u001b[0m\u001b[1;33m\u001b[0m\u001b[1;33m\u001b[0m\u001b[0m\n\u001b[0m\u001b[0;32m      4\u001b[0m \u001b[0mprint\u001b[0m\u001b[1;33m(\u001b[0m\u001b[0mp\u001b[0m\u001b[1;33m)\u001b[0m\u001b[1;33m\u001b[0m\u001b[1;33m\u001b[0m\u001b[0m\n",
      "\u001b[1;31mTypeError\u001b[0m: can't multiply sequence by non-int of type 'str'"
     ]
    }
   ],
   "source": [
    "x=\"6\"\n",
    "y=\"7\"\n",
    "p=x*y\n",
    "print(p)"
   ]
  },
  {
   "cell_type": "code",
   "execution_count": 10,
   "metadata": {},
   "outputs": [
    {
     "name": "stdout",
     "output_type": "stream",
     "text": [
      "42\n"
     ]
    }
   ],
   "source": [
    "x=6\n",
    "y=7\n",
    "p=x*y\n",
    "print(p)"
   ]
  },
  {
   "cell_type": "code",
   "execution_count": 1,
   "metadata": {},
   "outputs": [
    {
     "name": "stdout",
     "output_type": "stream",
     "text": [
      "1.05\n",
      "5.25\n",
      "1\n",
      "5\n"
     ]
    }
   ],
   "source": [
    "x=21\n",
    "y=4\n",
    "p=x/20\n",
    "print(p)\n",
    "z=x/y\n",
    "print(z)\n",
    "r=x%y   # modulus -display the reminder of division\n",
    "print(r)\n",
    "s= x//y #integer part of quotient displayed \n",
    "print(s)\n"
   ]
  },
  {
   "cell_type": "code",
   "execution_count": 4,
   "metadata": {},
   "outputs": [
    {
     "name": "stdout",
     "output_type": "stream",
     "text": [
      "1000\n"
     ]
    }
   ],
   "source": [
    "a= 3\n",
    "b=10**3# finding exponent \"**\"\n",
    "print(b)"
   ]
  },
  {
   "cell_type": "code",
   "execution_count": 11,
   "metadata": {},
   "outputs": [
    {
     "name": "stdout",
     "output_type": "stream",
     "text": [
      "hello    hello    hello    hello    hello    hello    hello    hello    hello    hello    hello    hello    hello    hello    hello    hello    hello    hello    hello    hello    hello    hello    hello    hello    hello    hello    hello    hello    hello    hello    hello    hello    hello    hello    hello    hello    hello    hello    hello    hello    hello    hello    hello    hello    hello    hello    hello    hello    hello    hello    hello    hello    hello    hello    hello    hello    hello    hello    hello    hello    hello    hello    hello    hello    hello    hello    hello    hello    hello    hello    hello    hello    hello    hello    hello    hello    hello    hello    hello    hello    hello    hello    hello    hello    hello    hello    hello    hello    hello    hello    hello    hello    hello    hello    hello    hello    hello    hello    hello    hello    hello    hello    hello    hello    hello    hello    hello    hello    hello    hello    hello    hello    hello    hello    hello    hello    hello    hello    hello    hello    hello    hello    hello    hello    hello    hello    hello    hello    hello    hello    hello    hello    hello    hello    hello    hello    hello    hello    hello    hello    hello    hello    hello    hello    hello    hello    hello    hello    hello    hello    hello    hello    hello    hello    hello    hello    hello    hello    hello    hello    hello    hello    hello    hello    hello    hello    hello    hello    hello    hello    hello    hello    hello    hello    hello    hello    hello    hello    hello    hello    hello    hello    hello    hello    hello    hello    hello    hello    hello    hello    hello    hello    hello    hello    hello    hello    hello    hello    hello    hello    hello    hello    hello    hello    hello    hello    hello    hello    hello    hello    hello    hello    hello    hello    hello    hello    hello    hello    hello    hello    hello    hello    hello    hello    hello    hello    hello    hello    hello    hello    hello    hello    hello    hello    hello    hello    hello    hello    hello    hello    hello    hello    hello    hello    hello    hello    hello    hello    hello    hello    hello    hello    hello    hello    hello    hello    hello    hello    hello    hello    hello    hello    hello    hello    hello    hello    hello    hello    hello    hello    hello    hello    hello    hello    hello    hello    hello    hello    hello    hello    hello    hello    hello    hello    hello    hello    hello    hello    hello    hello    hello    hello    hello    hello    hello    hello    hello    hello    hello    hello    hello    hello    hello    hello    hello    hello    hello    hello    hello    hello    hello    hello    hello    hello    hello    hello    hello    hello    hello    hello    hello    hello    hello    hello    hello    hello    hello    hello    hello    hello    hello    hello    hello    hello    hello    hello    hello    hello    hello    hello    hello    hello    hello    hello    hello    hello    hello    hello    hello    hello    hello    hello    hello    hello    hello    hello    hello    hello    hello    hello    hello    hello    hello    hello    hello    hello    hello    hello    hello    hello    hello    hello    hello    hello    hello    hello    hello    hello    hello    hello    hello    hello    hello    hello    hello    hello    hello    hello    hello    hello    hello    hello    hello    hello    hello    hello    hello    hello    hello    hello    hello    hello    hello    hello    hello    hello    hello    hello    hello    hello    hello    hello    hello    hello    hello    hello    hello    hello    hello    hello    hello    hello    hello    hello    hello    hello    hello    hello    hello    hello    hello    hello    hello    hello    hello    hello    hello    hello    hello    hello    hello    hello    hello    hello    hello    hello    hello    hello    hello    hello    hello    hello    hello    hello    hello    hello    hello    hello    hello    hello    hello    hello    hello    hello    hello    hello    hello    hello    hello    hello    hello    hello    hello    hello    hello    hello    hello    hello    hello    hello    hello    hello    hello    hello    hello    hello    hello    hello    hello    hello    hello    hello    hello    hello    hello    hello    hello    hello    hello    hello    hello    hello    hello    hello    hello    hello    hello    hello    hello    hello    hello    hello    hello    hello    hello    hello    hello    hello    hello    hello    hello    hello    hello    hello    hello    hello    hello    hello    hello    hello    hello    hello    hello    hello    hello    hello    hello    hello    hello    hello    hello    hello    hello    hello    hello    hello    hello    hello    hello    hello    hello    hello    hello    hello    hello    hello    hello    hello    hello    hello    hello    hello    hello    hello    hello    hello    hello    hello    hello    hello    hello    hello    hello    hello    hello    hello    hello    hello    hello    hello    hello    hello    hello    hello    hello    hello    hello    hello    hello    hello    hello    hello    hello    hello    hello    hello    hello    hello    hello    hello    hello    hello    hello    hello    hello    hello    hello    hello    hello    hello    hello    hello    hello    hello    hello    hello    hello    hello    hello    hello    hello    hello    hello    hello    hello    hello    hello    hello    hello    hello    hello    hello    hello    hello    hello    hello    hello    hello    hello    hello    hello    hello    hello    hello    hello    hello    hello    hello    hello    hello    hello    hello    hello    hello    hello    hello    hello    hello    hello    hello    hello    hello    hello    hello    hello    hello    hello    hello    hello    hello    hello    hello    hello    hello    hello    hello    hello    hello    hello    hello    hello    hello    hello    hello    hello    hello    hello    hello    hello    hello    hello    hello    hello    hello    hello    hello    hello    hello    hello    hello    hello    hello    hello    hello    hello    hello    hello    hello    hello    hello    hello    hello    hello    hello    hello    hello    hello    hello    hello    hello    hello    hello    hello    hello    hello    hello    hello    hello    hello    hello    hello    hello    hello    hello    hello    hello    hello    hello    hello    hello    hello    hello    hello    hello    hello    hello    hello    hello    hello    hello    hello    hello    hello    hello    hello    hello    hello    hello    hello    hello    hello    hello    hello    hello    hello    hello    hello    hello    hello    hello    hello    hello    hello    hello    hello    hello    hello    hello    hello    hello    hello    hello    hello    hello    hello    hello    hello    hello    hello    hello    hello    hello    hello    hello    hello    hello    hello    hello    hello    hello    hello    hello    hello    hello    hello    hello    hello    hello    hello    hello    hello    hello    hello    hello    hello    hello    hello    hello    hello    hello    hello    hello    hello    hello    hello    hello    hello    hello    hello    hello    hello    hello    hello    hello    hello    hello    hello    hello    hello    hello    hello    hello    hello    hello    hello    hello    hello    hello    hello    hello    hello    hello    hello    hello    hello    hello    hello    hello    hello    hello    hello    hello    hello    hello    hello    hello    hello    hello    hello    hello    hello    hello    hello    hello    hello    hello    hello    hello    hello    hello    hello    hello    hello    hello    hello    hello    hello    hello    hello    hello    hello    hello    hello    hello    hello    hello    hello    hello    hello    hello    hello    hello    hello    hello    hello    hello    hello    hello    hello    hello    hello    hello    hello    hello    hello    hello    hello    hello    hello    hello    hello    hello    hello    hello    hello    hello    hello    hello    hello    hello    hello    hello    hello    hello    hello    hello    hello    hello    hello    hello    hello    hello    hello    hello    hello    hello    hello    hello    hello    hello    hello    hello    hello    hello    hello    hello    hello    hello    hello    hello    hello    hello    hello    hello    hello    hello    hello    hello    hello    hello    hello    hello    hello    hello    hello    hello    hello    hello    hello    hello    hello    hello    hello    hello    hello    hello    hello    hello    hello    hello    hello    hello    hello    hello    hello    hello    hello    hello    hello    hello    \n"
     ]
    }
   ],
   "source": [
    "name = \"hello \"*1000\n",
    "\n",
    "print(name)"
   ]
  },
  {
   "cell_type": "code",
   "execution_count": 3,
   "metadata": {},
   "outputs": [
    {
     "name": "stdout",
     "output_type": "stream",
     "text": [
      "Helloworld\n"
     ]
    }
   ],
   "source": [
    "#using + operator for joining string datatypes\n",
    "x=\"world\"\n",
    "y=\"Hello\"\n",
    "print(y+x)\n"
   ]
  },
  {
   "cell_type": "code",
   "execution_count": 6,
   "metadata": {},
   "outputs": [
    {
     "name": "stdout",
     "output_type": "stream",
     "text": [
      "20Apples\n"
     ]
    }
   ],
   "source": [
    "a=20\n",
    "b=\"Apples\"\n",
    "print(str(a)+b)"
   ]
  },
  {
   "cell_type": "code",
   "execution_count": 7,
   "metadata": {},
   "outputs": [
    {
     "name": "stdout",
     "output_type": "stream",
     "text": [
      "20\n",
      "50\n"
     ]
    }
   ],
   "source": [
    "a=20\n",
    "b=50\n",
    "print(a)\n",
    "print(b)"
   ]
  },
  {
   "cell_type": "code",
   "execution_count": 9,
   "metadata": {},
   "outputs": [
    {
     "name": "stdout",
     "output_type": "stream",
     "text": [
      "Enter value \n",
      "34\n",
      "34\n"
     ]
    }
   ],
   "source": [
    "#use of input function\n",
    "print(\"Enter value \")\n",
    "a=input()\n",
    "\n",
    "print(a)\n"
   ]
  },
  {
   "cell_type": "code",
   "execution_count": 10,
   "metadata": {},
   "outputs": [
    {
     "name": "stdout",
     "output_type": "stream",
     "text": [
      "Enter namejovin\n",
      "jovin\n"
     ]
    }
   ],
   "source": [
    "x=input(\"Enter name\")\n",
    "print(x)"
   ]
  },
  {
   "cell_type": "code",
   "execution_count": 15,
   "metadata": {},
   "outputs": [
    {
     "name": "stdout",
     "output_type": "stream",
     "text": [
      "enter num1  45\n",
      "enter num2  65\n",
      "110\n"
     ]
    }
   ],
   "source": [
    "x=int(input(\"enter num1  \"))\n",
    "y=int(input(\"enter num2  \"))\n",
    "z=(x+y)\n",
    "\n",
    "print(z)"
   ]
  },
  {
   "cell_type": "code",
   "execution_count": 16,
   "metadata": {},
   "outputs": [
    {
     "name": "stdout",
     "output_type": "stream",
     "text": [
      "7.5\n"
     ]
    }
   ],
   "source": [
    "#Implicit type - program itself will change the data type\n",
    "a=3\n",
    "b=4.5\n",
    "c=a+b\n",
    "print(c)"
   ]
  },
  {
   "cell_type": "code",
   "execution_count": 17,
   "metadata": {},
   "outputs": [
    {
     "name": "stdout",
     "output_type": "stream",
     "text": [
      "20Apples \n"
     ]
    }
   ],
   "source": [
    "#Explicit type conversion- user is forcing to change the data type \n",
    "a=20\n",
    "b=\"Apples \"\n",
    "print(str(a)+b)"
   ]
  },
  {
   "cell_type": "code",
   "execution_count": 18,
   "metadata": {},
   "outputs": [
    {
     "name": "stdout",
     "output_type": "stream",
     "text": [
      "[23, 44, 65, 'apple', 'peach']\n"
     ]
    }
   ],
   "source": [
    "# creating list\n",
    "l1=[23,44,65,\"apple\",\"peach\"]\n",
    "print(l1)"
   ]
  },
  {
   "cell_type": "code",
   "execution_count": 19,
   "metadata": {},
   "outputs": [
    {
     "ename": "NameError",
     "evalue": "name 'li' is not defined",
     "output_type": "error",
     "traceback": [
      "\u001b[1;31m---------------------------------------------------------------------------\u001b[0m",
      "\u001b[1;31mNameError\u001b[0m                                 Traceback (most recent call last)",
      "\u001b[1;32m<ipython-input-19-f6b5acc9cf12>\u001b[0m in \u001b[0;36m<module>\u001b[1;34m\u001b[0m\n\u001b[1;32m----> 1\u001b[1;33m \u001b[0mprint\u001b[0m\u001b[1;33m(\u001b[0m\u001b[0mli\u001b[0m\u001b[1;33m[\u001b[0m\u001b[1;36m0\u001b[0m\u001b[1;33m]\u001b[0m\u001b[1;33m)\u001b[0m\u001b[1;33m\u001b[0m\u001b[1;33m\u001b[0m\u001b[0m\n\u001b[0m",
      "\u001b[1;31mNameError\u001b[0m: name 'li' is not defined"
     ]
    }
   ],
   "source": [
    "print(li[0])"
   ]
  },
  {
   "cell_type": "code",
   "execution_count": 20,
   "metadata": {},
   "outputs": [
    {
     "name": "stdout",
     "output_type": "stream",
     "text": [
      "23\n"
     ]
    }
   ],
   "source": [
    "#indexing items in a list using positive numbers starts from left side ,0\n",
    "print(l1[0])"
   ]
  },
  {
   "cell_type": "code",
   "execution_count": 21,
   "metadata": {},
   "outputs": [
    {
     "name": "stdout",
     "output_type": "stream",
     "text": [
      "44\n"
     ]
    }
   ],
   "source": [
    "print(l1[1])"
   ]
  },
  {
   "cell_type": "code",
   "execution_count": 22,
   "metadata": {},
   "outputs": [
    {
     "name": "stdout",
     "output_type": "stream",
     "text": [
      "peach\n"
     ]
    }
   ],
   "source": [
    "print(l1[4])"
   ]
  },
  {
   "cell_type": "code",
   "execution_count": 23,
   "metadata": {},
   "outputs": [
    {
     "name": "stdout",
     "output_type": "stream",
     "text": [
      "peach\n"
     ]
    }
   ],
   "source": [
    "#indexing items in a list using negative  numbers( starts from right side )\n",
    "print(l1[-1])"
   ]
  },
  {
   "cell_type": "code",
   "execution_count": 24,
   "metadata": {},
   "outputs": [
    {
     "name": "stdout",
     "output_type": "stream",
     "text": [
      "apple\n"
     ]
    }
   ],
   "source": [
    "print(l1[-2])"
   ]
  },
  {
   "cell_type": "code",
   "execution_count": 25,
   "metadata": {},
   "outputs": [
    {
     "ename": "IndexError",
     "evalue": "list index out of range",
     "output_type": "error",
     "traceback": [
      "\u001b[1;31m---------------------------------------------------------------------------\u001b[0m",
      "\u001b[1;31mIndexError\u001b[0m                                Traceback (most recent call last)",
      "\u001b[1;32m<ipython-input-25-3f836311c81c>\u001b[0m in \u001b[0;36m<module>\u001b[1;34m\u001b[0m\n\u001b[1;32m----> 1\u001b[1;33m \u001b[0mprint\u001b[0m\u001b[1;33m(\u001b[0m\u001b[0ml1\u001b[0m\u001b[1;33m[\u001b[0m\u001b[1;36m7\u001b[0m\u001b[1;33m]\u001b[0m\u001b[1;33m)\u001b[0m\u001b[1;33m\u001b[0m\u001b[1;33m\u001b[0m\u001b[0m\n\u001b[0m",
      "\u001b[1;31mIndexError\u001b[0m: list index out of range"
     ]
    }
   ],
   "source": [
    "print(l1[7])"
   ]
  },
  {
   "cell_type": "code",
   "execution_count": 26,
   "metadata": {},
   "outputs": [
    {
     "name": "stdout",
     "output_type": "stream",
     "text": [
      "['raj', 'manu', 34, 56, 90.87, 'Abhijith', 'chennai']\n"
     ]
    }
   ],
   "source": [
    "l2=[\"raj\",\"manu\",34,56,90.87,\"Abhijith\",\"chennai\"]\n",
    "print(l2)"
   ]
  },
  {
   "cell_type": "code",
   "execution_count": 29,
   "metadata": {},
   "outputs": [
    {
     "name": "stdout",
     "output_type": "stream",
     "text": [
      "[34, 56]\n"
     ]
    }
   ],
   "source": [
    "#slicing of items from a list\n",
    "print(l2[2:4])# 4th index is not included"
   ]
  },
  {
   "cell_type": "code",
   "execution_count": 30,
   "metadata": {},
   "outputs": [
    {
     "name": "stdout",
     "output_type": "stream",
     "text": [
      "[34, 56, 90.87]\n"
     ]
    }
   ],
   "source": [
    "print(l2[2:5])#5th index is not included"
   ]
  },
  {
   "cell_type": "code",
   "execution_count": 31,
   "metadata": {},
   "outputs": [
    {
     "name": "stdout",
     "output_type": "stream",
     "text": [
      "['raj', 'manu', 34, 56, 90.87, 'Abhijith', 'Mumbai']\n"
     ]
    }
   ],
   "source": [
    "#changing values in alist\n",
    "l2[6]=\"Mumbai\"\n",
    "print(l2)"
   ]
  },
  {
   "cell_type": "code",
   "execution_count": 32,
   "metadata": {},
   "outputs": [
    {
     "name": "stdout",
     "output_type": "stream",
     "text": [
      "7\n"
     ]
    }
   ],
   "source": [
    "#use of len() for finding no of items ina list\n",
    "print(len(l2))"
   ]
  },
  {
   "cell_type": "code",
   "execution_count": 34,
   "metadata": {},
   "outputs": [
    {
     "name": "stdout",
     "output_type": "stream",
     "text": [
      "['raj', 'manu', 34, 56, 90.87, 'Abhijith', 'Mumbai']\n"
     ]
    }
   ],
   "source": [
    "#use of append method to add  one item\n",
    "print(l2)\n",
    "l2.append(\"Cat\")"
   ]
  },
  {
   "cell_type": "code",
   "execution_count": 35,
   "metadata": {},
   "outputs": [
    {
     "name": "stdout",
     "output_type": "stream",
     "text": [
      "['raj', 'manu', 34, 56, 90.87, 'Abhijith', 'Mumbai', 'Cat']\n"
     ]
    }
   ],
   "source": [
    "print(l2)"
   ]
  },
  {
   "cell_type": "code",
   "execution_count": 36,
   "metadata": {},
   "outputs": [
    {
     "name": "stdout",
     "output_type": "stream",
     "text": [
      "['raj', 'manu', 34, 56, 90.87, 'Abhijith', 'Mumbai', 'Cat', 23, 80]\n"
     ]
    }
   ],
   "source": [
    "#extend method to add more than one item at a time \n",
    "l3=[23,80]\n",
    "l2.extend(l3)\n",
    "print(l2)"
   ]
  },
  {
   "cell_type": "code",
   "execution_count": 37,
   "metadata": {},
   "outputs": [],
   "source": [
    "#remove method\n",
    "l2.remove(\"raj\")"
   ]
  },
  {
   "cell_type": "code",
   "execution_count": 38,
   "metadata": {},
   "outputs": [
    {
     "name": "stdout",
     "output_type": "stream",
     "text": [
      "['manu', 34, 56, 90.87, 'Abhijith', 'Mumbai', 'Cat', 23, 80]\n"
     ]
    }
   ],
   "source": [
    "print(l2)"
   ]
  },
  {
   "cell_type": "code",
   "execution_count": 39,
   "metadata": {},
   "outputs": [
    {
     "name": "stdout",
     "output_type": "stream",
     "text": [
      "['manu', 500, 34, 56, 90.87, 'Abhijith', 'Mumbai', 'Cat', 23, 80]\n"
     ]
    }
   ],
   "source": [
    "l2.insert(1,500)\n",
    "print(l2)"
   ]
  },
  {
   "cell_type": "code",
   "execution_count": 40,
   "metadata": {},
   "outputs": [
    {
     "name": "stdout",
     "output_type": "stream",
     "text": [
      "['manu', 500, 34, 56, 90.87, 'Mumbai', 'Cat', 23, 80]\n"
     ]
    }
   ],
   "source": [
    "#pop method to remove item ata specific position\n",
    "l2.pop(5)\n",
    "print(l2)"
   ]
  },
  {
   "cell_type": "code",
   "execution_count": 41,
   "metadata": {},
   "outputs": [
    {
     "ename": "SyntaxError",
     "evalue": "cannot delete function call (<ipython-input-41-6ed5e53bccd6>, line 1)",
     "output_type": "error",
     "traceback": [
      "\u001b[1;36m  File \u001b[1;32m\"<ipython-input-41-6ed5e53bccd6>\"\u001b[1;36m, line \u001b[1;32m1\u001b[0m\n\u001b[1;33m    del l2(1)\u001b[0m\n\u001b[1;37m        ^\u001b[0m\n\u001b[1;31mSyntaxError\u001b[0m\u001b[1;31m:\u001b[0m cannot delete function call\n"
     ]
    }
   ],
   "source": [
    "del l2(1)\n",
    "print(l2)"
   ]
  },
  {
   "cell_type": "code",
   "execution_count": 42,
   "metadata": {},
   "outputs": [
    {
     "name": "stdout",
     "output_type": "stream",
     "text": [
      "['manu', 34, 56, 90.87, 'Mumbai', 'Cat', 23, 80]\n"
     ]
    }
   ],
   "source": [
    "del l2[1]\n",
    "print(l2)"
   ]
  },
  {
   "cell_type": "code",
   "execution_count": 43,
   "metadata": {},
   "outputs": [],
   "source": [
    "del l2\n"
   ]
  },
  {
   "cell_type": "code",
   "execution_count": 44,
   "metadata": {},
   "outputs": [
    {
     "ename": "NameError",
     "evalue": "name 'l2' is not defined",
     "output_type": "error",
     "traceback": [
      "\u001b[1;31m---------------------------------------------------------------------------\u001b[0m",
      "\u001b[1;31mNameError\u001b[0m                                 Traceback (most recent call last)",
      "\u001b[1;32m<ipython-input-44-fe0e377ca3f8>\u001b[0m in \u001b[0;36m<module>\u001b[1;34m\u001b[0m\n\u001b[1;32m----> 1\u001b[1;33m \u001b[0mprint\u001b[0m\u001b[1;33m(\u001b[0m\u001b[0ml2\u001b[0m\u001b[1;33m)\u001b[0m\u001b[1;33m\u001b[0m\u001b[1;33m\u001b[0m\u001b[0m\n\u001b[0m",
      "\u001b[1;31mNameError\u001b[0m: name 'l2' is not defined"
     ]
    }
   ],
   "source": [
    "print(l2)"
   ]
  },
  {
   "cell_type": "code",
   "execution_count": 1,
   "metadata": {},
   "outputs": [
    {
     "name": "stdout",
     "output_type": "stream",
     "text": [
      "(23, 45, 'Aladdin', 505)\n"
     ]
    }
   ],
   "source": [
    "#creation of tuple\n",
    "t1=(23,45,\"Aladdin\",505)\n",
    "print(t1)"
   ]
  },
  {
   "cell_type": "code",
   "execution_count": 2,
   "metadata": {},
   "outputs": [
    {
     "name": "stdout",
     "output_type": "stream",
     "text": [
      "27\n"
     ]
    }
   ],
   "source": [
    "t2=(27)# not considered as a tuple\n",
    "print(t2)"
   ]
  },
  {
   "cell_type": "code",
   "execution_count": 3,
   "metadata": {},
   "outputs": [
    {
     "name": "stdout",
     "output_type": "stream",
     "text": [
      "(27,)\n"
     ]
    }
   ],
   "source": [
    "t2=(27,)# considered as a tuple \n",
    "print(t2)"
   ]
  },
  {
   "cell_type": "code",
   "execution_count": 4,
   "metadata": {},
   "outputs": [
    {
     "name": "stdout",
     "output_type": "stream",
     "text": [
      "45\n"
     ]
    }
   ],
   "source": [
    "print(t1[1])"
   ]
  },
  {
   "cell_type": "code",
   "execution_count": 5,
   "metadata": {},
   "outputs": [
    {
     "ename": "TypeError",
     "evalue": "'tuple' object is not callable",
     "output_type": "error",
     "traceback": [
      "\u001b[1;31m---------------------------------------------------------------------------\u001b[0m",
      "\u001b[1;31mTypeError\u001b[0m                                 Traceback (most recent call last)",
      "\u001b[1;32m<ipython-input-5-40294b8c4a03>\u001b[0m in \u001b[0;36m<module>\u001b[1;34m\u001b[0m\n\u001b[1;32m----> 1\u001b[1;33m \u001b[0mprint\u001b[0m\u001b[1;33m(\u001b[0m\u001b[0mt1\u001b[0m\u001b[1;33m(\u001b[0m\u001b[1;36m3\u001b[0m\u001b[1;33m)\u001b[0m\u001b[1;33m)\u001b[0m\u001b[1;33m\u001b[0m\u001b[1;33m\u001b[0m\u001b[0m\n\u001b[0m",
      "\u001b[1;31mTypeError\u001b[0m: 'tuple' object is not callable"
     ]
    }
   ],
   "source": [
    "print(t1(3))# error due to round bracket"
   ]
  },
  {
   "cell_type": "code",
   "execution_count": 6,
   "metadata": {},
   "outputs": [
    {
     "name": "stdout",
     "output_type": "stream",
     "text": [
      "505\n"
     ]
    }
   ],
   "source": [
    "print(t1[3])\n"
   ]
  },
  {
   "cell_type": "code",
   "execution_count": 8,
   "metadata": {},
   "outputs": [
    {
     "name": "stdout",
     "output_type": "stream",
     "text": [
      "(23, 67, 'Max', 90.06)\n"
     ]
    }
   ],
   "source": [
    "x=(23,67,\"Max\",90.06)\n",
    "print(x)"
   ]
  },
  {
   "cell_type": "code",
   "execution_count": 9,
   "metadata": {},
   "outputs": [
    {
     "name": "stdout",
     "output_type": "stream",
     "text": [
      "(67, 'Max')\n"
     ]
    }
   ],
   "source": [
    "#slicing of items from a tuple using index \n",
    "print(x[1:3])"
   ]
  },
  {
   "cell_type": "code",
   "execution_count": 10,
   "metadata": {},
   "outputs": [
    {
     "ename": "NameError",
     "evalue": "name 'l2' is not defined",
     "output_type": "error",
     "traceback": [
      "\u001b[1;31m---------------------------------------------------------------------------\u001b[0m",
      "\u001b[1;31mNameError\u001b[0m                                 Traceback (most recent call last)",
      "\u001b[1;32m<ipython-input-10-fe0e377ca3f8>\u001b[0m in \u001b[0;36m<module>\u001b[1;34m\u001b[0m\n\u001b[1;32m----> 1\u001b[1;33m \u001b[0mprint\u001b[0m\u001b[1;33m(\u001b[0m\u001b[0ml2\u001b[0m\u001b[1;33m)\u001b[0m\u001b[1;33m\u001b[0m\u001b[1;33m\u001b[0m\u001b[0m\n\u001b[0m",
      "\u001b[1;31mNameError\u001b[0m: name 'l2' is not defined"
     ]
    }
   ],
   "source": [
    "print(l2)"
   ]
  },
  {
   "cell_type": "code",
   "execution_count": 11,
   "metadata": {},
   "outputs": [
    {
     "ename": "NameError",
     "evalue": "name 'l1' is not defined",
     "output_type": "error",
     "traceback": [
      "\u001b[1;31m---------------------------------------------------------------------------\u001b[0m",
      "\u001b[1;31mNameError\u001b[0m                                 Traceback (most recent call last)",
      "\u001b[1;32m<ipython-input-11-9957399d2fc4>\u001b[0m in \u001b[0;36m<module>\u001b[1;34m\u001b[0m\n\u001b[1;32m----> 1\u001b[1;33m \u001b[0mprint\u001b[0m\u001b[1;33m(\u001b[0m\u001b[0ml1\u001b[0m\u001b[1;33m)\u001b[0m\u001b[1;33m\u001b[0m\u001b[1;33m\u001b[0m\u001b[0m\n\u001b[0m",
      "\u001b[1;31mNameError\u001b[0m: name 'l1' is not defined"
     ]
    }
   ],
   "source": [
    "print(l1)"
   ]
  },
  {
   "cell_type": "code",
   "execution_count": 12,
   "metadata": {},
   "outputs": [
    {
     "name": "stdout",
     "output_type": "stream",
     "text": [
      "[23, 45, 7, 88, 90, 455]\n"
     ]
    }
   ],
   "source": [
    "l1=[23,45,7,88,90,455]\n",
    "print(l1)"
   ]
  },
  {
   "cell_type": "code",
   "execution_count": 13,
   "metadata": {},
   "outputs": [
    {
     "ename": "NameError",
     "evalue": "name 'l2' is not defined",
     "output_type": "error",
     "traceback": [
      "\u001b[1;31m---------------------------------------------------------------------------\u001b[0m",
      "\u001b[1;31mNameError\u001b[0m                                 Traceback (most recent call last)",
      "\u001b[1;32m<ipython-input-13-f21f7010e47a>\u001b[0m in \u001b[0;36m<module>\u001b[1;34m\u001b[0m\n\u001b[0;32m      1\u001b[0m \u001b[0ml1\u001b[0m\u001b[1;33m[\u001b[0m\u001b[1;36m2\u001b[0m\u001b[1;33m]\u001b[0m\u001b[1;33m=\u001b[0m\u001b[1;36m700\u001b[0m\u001b[1;33m\u001b[0m\u001b[1;33m\u001b[0m\u001b[0m\n\u001b[1;32m----> 2\u001b[1;33m \u001b[0mprint\u001b[0m\u001b[1;33m(\u001b[0m\u001b[0ml2\u001b[0m\u001b[1;33m)\u001b[0m\u001b[1;33m\u001b[0m\u001b[1;33m\u001b[0m\u001b[0m\n\u001b[0m",
      "\u001b[1;31mNameError\u001b[0m: name 'l2' is not defined"
     ]
    }
   ],
   "source": [
    "l1[2]=700\n",
    "print(l2)"
   ]
  },
  {
   "cell_type": "code",
   "execution_count": 14,
   "metadata": {},
   "outputs": [
    {
     "name": "stdout",
     "output_type": "stream",
     "text": [
      "[23, 45, 700, 88, 90, 455]\n"
     ]
    }
   ],
   "source": [
    "l1[2]=700\n",
    "print(l1)"
   ]
  },
  {
   "cell_type": "code",
   "execution_count": 15,
   "metadata": {},
   "outputs": [
    {
     "name": "stdout",
     "output_type": "stream",
     "text": [
      "(23, 45, 'Aladdin', 505)\n"
     ]
    }
   ],
   "source": [
    "print(t1)"
   ]
  },
  {
   "cell_type": "code",
   "execution_count": 16,
   "metadata": {},
   "outputs": [
    {
     "ename": "TypeError",
     "evalue": "'tuple' object does not support item assignment",
     "output_type": "error",
     "traceback": [
      "\u001b[1;31m---------------------------------------------------------------------------\u001b[0m",
      "\u001b[1;31mTypeError\u001b[0m                                 Traceback (most recent call last)",
      "\u001b[1;32m<ipython-input-16-1e58718962a0>\u001b[0m in \u001b[0;36m<module>\u001b[1;34m\u001b[0m\n\u001b[1;32m----> 1\u001b[1;33m \u001b[0mt1\u001b[0m\u001b[1;33m[\u001b[0m\u001b[1;36m2\u001b[0m\u001b[1;33m]\u001b[0m\u001b[1;33m=\u001b[0m\u001b[1;36m450\u001b[0m\u001b[1;33m\u001b[0m\u001b[1;33m\u001b[0m\u001b[0m\n\u001b[0m\u001b[0;32m      2\u001b[0m \u001b[0mprint\u001b[0m\u001b[1;33m(\u001b[0m\u001b[0mt1\u001b[0m\u001b[1;33m)\u001b[0m\u001b[1;33m\u001b[0m\u001b[1;33m\u001b[0m\u001b[0m\n",
      "\u001b[1;31mTypeError\u001b[0m: 'tuple' object does not support item assignment"
     ]
    }
   ],
   "source": [
    "# items in a tuple cannot be changed\n",
    "t1[2]=450\n",
    "print(t1"
   ]
  },
  {
   "cell_type": "code",
   "execution_count": 17,
   "metadata": {},
   "outputs": [
    {
     "name": "stdout",
     "output_type": "stream",
     "text": [
      "(23, 45, 'Aladdin', 505)\n"
     ]
    }
   ],
   "source": [
    "print(t1)"
   ]
  },
  {
   "cell_type": "code",
   "execution_count": 18,
   "metadata": {},
   "outputs": [
    {
     "ename": "TypeError",
     "evalue": "'tuple' object doesn't support item deletion",
     "output_type": "error",
     "traceback": [
      "\u001b[1;31m---------------------------------------------------------------------------\u001b[0m",
      "\u001b[1;31mTypeError\u001b[0m                                 Traceback (most recent call last)",
      "\u001b[1;32m<ipython-input-18-9925a90478de>\u001b[0m in \u001b[0;36m<module>\u001b[1;34m\u001b[0m\n\u001b[1;32m----> 1\u001b[1;33m \u001b[1;32mdel\u001b[0m \u001b[0mt1\u001b[0m\u001b[1;33m[\u001b[0m\u001b[1;36m1\u001b[0m\u001b[1;33m]\u001b[0m\u001b[1;33m\u001b[0m\u001b[1;33m\u001b[0m\u001b[0m\n\u001b[0m\u001b[0;32m      2\u001b[0m \u001b[0mprint\u001b[0m\u001b[1;33m(\u001b[0m\u001b[0mt1\u001b[0m\u001b[1;33m)\u001b[0m\u001b[1;33m\u001b[0m\u001b[1;33m\u001b[0m\u001b[0m\n",
      "\u001b[1;31mTypeError\u001b[0m: 'tuple' object doesn't support item deletion"
     ]
    }
   ],
   "source": [
    "#cannot delete item wise \n",
    "del t1[1]\n",
    "print(t1)\n"
   ]
  },
  {
   "cell_type": "code",
   "execution_count": 19,
   "metadata": {},
   "outputs": [
    {
     "ename": "NameError",
     "evalue": "name 't1' is not defined",
     "output_type": "error",
     "traceback": [
      "\u001b[1;31m---------------------------------------------------------------------------\u001b[0m",
      "\u001b[1;31mNameError\u001b[0m                                 Traceback (most recent call last)",
      "\u001b[1;32m<ipython-input-19-dd9c11ea50b1>\u001b[0m in \u001b[0;36m<module>\u001b[1;34m\u001b[0m\n\u001b[0;32m      1\u001b[0m \u001b[1;32mdel\u001b[0m \u001b[0mt1\u001b[0m\u001b[1;33m\u001b[0m\u001b[1;33m\u001b[0m\u001b[0m\n\u001b[0;32m      2\u001b[0m \u001b[1;33m\u001b[0m\u001b[0m\n\u001b[1;32m----> 3\u001b[1;33m \u001b[0mprint\u001b[0m\u001b[1;33m(\u001b[0m\u001b[0mt1\u001b[0m\u001b[1;33m)\u001b[0m\u001b[1;33m\u001b[0m\u001b[1;33m\u001b[0m\u001b[0m\n\u001b[0m",
      "\u001b[1;31mNameError\u001b[0m: name 't1' is not defined"
     ]
    }
   ],
   "source": [
    "# can delete the whole tuple\n",
    "del t1\n",
    "\n",
    "print(t1)"
   ]
  },
  {
   "cell_type": "code",
   "execution_count": 20,
   "metadata": {},
   "outputs": [
    {
     "name": "stdout",
     "output_type": "stream",
     "text": [
      "{'bike', 'bus', 'car', 23, 445}\n"
     ]
    }
   ],
   "source": [
    "#creating set-collection of unordered data/items\n",
    "class_set={\"car\",\"bus\",\"bike\",23,445}\n",
    "print(class_set)"
   ]
  },
  {
   "cell_type": "code",
   "execution_count": 21,
   "metadata": {},
   "outputs": [
    {
     "name": "stdout",
     "output_type": "stream",
     "text": [
      "{67, 45, 70, 23}\n"
     ]
    }
   ],
   "source": [
    "#Sets print only unique values\n",
    "s1={23,45,70,67,45,23}\n",
    "print(s1)"
   ]
  },
  {
   "cell_type": "code",
   "execution_count": 22,
   "metadata": {},
   "outputs": [
    {
     "name": "stdout",
     "output_type": "stream",
     "text": [
      "{'Name': 'Akash', 'Age': 20, 'City': 'Chenna'}\n"
     ]
    }
   ],
   "source": [
    "#creating dictionaries\n",
    "d1={\"Name\":\"Akash\",\"Age\":20,\"City\":\"Chenna\"}\n",
    "print(d1)"
   ]
  },
  {
   "cell_type": "code",
   "execution_count": 23,
   "metadata": {},
   "outputs": [
    {
     "name": "stdout",
     "output_type": "stream",
     "text": [
      "Akash\n"
     ]
    }
   ],
   "source": [
    "#Access individual items from a dictionary\n",
    "print(d1[\"Name\"])"
   ]
  },
  {
   "cell_type": "code",
   "execution_count": 27,
   "metadata": {},
   "outputs": [
    {
     "name": "stdout",
     "output_type": "stream",
     "text": [
      "{'Name': 'Gopikrishna', 'Age': 40, 'City': 'Chenna', ('Name', 'Age'): ('Gopikrishna', 55)}\n"
     ]
    }
   ],
   "source": [
    "#change the value of an item ina dictionary\n",
    "d1[\"Name\"]=\"Gopikrishna\"\n",
    "print(d1)"
   ]
  },
  {
   "cell_type": "code",
   "execution_count": 28,
   "metadata": {},
   "outputs": [],
   "source": [
    "#           3 forms of Control Structure\n",
    "#1.if\n",
    "#2. if...else\n",
    "#3.elif\n",
    "#if structure\n",
    "x=10\n",
    "b=14\n",
    "if x>b :# since the condition x>b is not satisfied ,print st is not executed \n",
    "    print(\"x > b\")\n"
   ]
  },
  {
   "cell_type": "code",
   "execution_count": 29,
   "metadata": {},
   "outputs": [
    {
     "name": "stdout",
     "output_type": "stream",
     "text": [
      "x > b\n"
     ]
    }
   ],
   "source": [
    "x=100\n",
    "b=14\n",
    "if x>b :# since the condition x>b is  satisfied ,print st is  executed\n",
    "    print(\"x > b\")\n"
   ]
  },
  {
   "cell_type": "code",
   "execution_count": 34,
   "metadata": {},
   "outputs": [
    {
     "name": "stdout",
     "output_type": "stream",
     "text": [
      "x>b\n"
     ]
    }
   ],
   "source": [
    "x=147\n",
    "b=140\n",
    "if x>b :\n",
    "    print(\"x>b\")\n",
    "else:\n",
    "    print(\"b>x\")\n"
   ]
  },
  {
   "cell_type": "code",
   "execution_count": 6,
   "metadata": {},
   "outputs": [
    {
     "name": "stdout",
     "output_type": "stream",
     "text": [
      "Enter any number23\n",
      "23 is odd number\n"
     ]
    }
   ],
   "source": [
    "# to identify whether even or odd\n",
    "x=int(input(\"Enter any number\"))\n",
    "\n",
    "if x%2==0:\n",
    "    print(x,\"is an even number\")\n",
    "else:\n",
    "    print(x,\"is odd number\")\n",
    "          "
   ]
  },
  {
   "cell_type": "code",
   "execution_count": 13,
   "metadata": {},
   "outputs": [
    {
     "name": "stdout",
     "output_type": "stream",
     "text": [
      "ENTER YOUR AGE :23\n",
      "ELIGIBLE TO VOTE\n"
     ]
    }
   ],
   "source": [
    "age=int(input(\"ENTER YOUR AGE :\"))\n",
    "if age<18 :\n",
    "    print(\"NOT ELIGIBLE TO VOTE\")\n",
    "else:\n",
    "    print(\"ELIGIBLE TO VOTE\")\n",
    "    "
   ]
  },
  {
   "cell_type": "code",
   "execution_count": 16,
   "metadata": {},
   "outputs": [
    {
     "name": "stdout",
     "output_type": "stream",
     "text": [
      "Enter marks out of 100  -97\n",
      "A GRADE\n"
     ]
    }
   ],
   "source": [
    "#use of elif - for multiple conditions \n",
    "total=int(input(\"Enter marks out of 100  -\"))\n",
    "if(total>=90 and total<=100):\n",
    "    print(\"A GRADE\")\n",
    "elif(total>=70 and total<90):\n",
    "    print(\"B GRADE\")\n",
    "elif(total>=50 and total<70):\n",
    "    print(\"C GRADE\")\n",
    "else:\n",
    "    print(\"D GRADE\")"
   ]
  },
  {
   "cell_type": "code",
   "execution_count": null,
   "metadata": {},
   "outputs": [],
   "source": []
  },
  {
   "cell_type": "code",
   "execution_count": 19,
   "metadata": {},
   "outputs": [
    {
     "name": "stdout",
     "output_type": "stream",
     "text": [
      "enter any number34\n",
      "other value \n"
     ]
    }
   ],
   "source": [
    "x=int(input(\"enter any number\"))\n",
    "if( x==10 or x==4):\n",
    "    print(x,\"is value entered\")\n",
    "else:\n",
    "    print(\"other value \")\n"
   ]
  },
  {
   "cell_type": "code",
   "execution_count": 21,
   "metadata": {},
   "outputs": [
    {
     "name": "stdout",
     "output_type": "stream",
     "text": [
      "Thank you\n",
      "Thank you\n",
      "Thank you\n",
      "Thank you\n",
      "Thank you\n",
      "Thank you\n",
      "Thank you\n",
      "Thank you\n",
      "Thank you\n",
      "Thank you\n"
     ]
    }
   ],
   "source": [
    "#Loops - for executing any set of statements many times based on certain condition \n",
    "# 1. for\n",
    "# 2. while\n",
    "for a in range(10):\n",
    "    print(\"Thank you\")\n"
   ]
  },
  {
   "cell_type": "code",
   "execution_count": 22,
   "metadata": {},
   "outputs": [
    {
     "name": "stdout",
     "output_type": "stream",
     "text": [
      "2\n",
      "4\n",
      "6\n",
      "8\n",
      "10\n"
     ]
    }
   ],
   "source": [
    "for i in[2,4,6,8,10]:\n",
    "    print(i)\n"
   ]
  },
  {
   "cell_type": "code",
   "execution_count": 23,
   "metadata": {},
   "outputs": [
    {
     "name": "stdout",
     "output_type": "stream",
     "text": [
      "23\n",
      "45\n",
      "Raj\n",
      "Chennai\n",
      "34\n"
     ]
    }
   ],
   "source": [
    "l1=[23,45,\"Raj\",\"Chennai\",34]\n",
    "for i in (l1):\n",
    "    print(i)\n"
   ]
  },
  {
   "cell_type": "code",
   "execution_count": 25,
   "metadata": {},
   "outputs": [
    {
     "name": "stdout",
     "output_type": "stream",
     "text": [
      "Enter any number:5\n",
      "1 x 5 = 5\n",
      "2 x 5 = 10\n",
      "3 x 5 = 15\n",
      "4 x 5 = 20\n",
      "5 x 5 = 25\n",
      "6 x 5 = 30\n",
      "7 x 5 = 35\n",
      "8 x 5 = 40\n",
      "9 x 5 = 45\n"
     ]
    }
   ],
   "source": [
    "#Display multiplication table using for loop\n",
    "x=int(input(\"Enter any number:\"))\n",
    "for i in range(1,11):\n",
    "    print(i,\"x\",x,\"=\",x*i)\n"
   ]
  },
  {
   "cell_type": "code",
   "execution_count": 26,
   "metadata": {},
   "outputs": [
    {
     "name": "stdout",
     "output_type": "stream",
     "text": [
      "1\n",
      "2\n",
      "3\n",
      "4\n"
     ]
    }
   ],
   "source": [
    "i=0\n",
    "while(i<4):\n",
    "    i=i+1\n",
    "    print(i)\n"
   ]
  },
  {
   "cell_type": "code",
   "execution_count": 28,
   "metadata": {},
   "outputs": [
    {
     "name": "stdout",
     "output_type": "stream",
     "text": [
      "Enter any number:2\n",
      "1 x 2 = 2\n",
      "2 x 2 = 4\n",
      "3 x 2 = 6\n",
      "4 x 2 = 8\n",
      "5 x 2 = 10\n",
      "6 x 2 = 12\n",
      "7 x 2 = 14\n",
      "8 x 2 = 16\n",
      "9 x 2 = 18\n",
      "10 x 2 = 20\n"
     ]
    }
   ],
   "source": [
    "x=int(input(\"Enter any number:\"))\n",
    "i=0\n",
    "while(i<10):\n",
    "    i=i+1\n",
    "    print(i,\"x\",x,\"=\",x*i)\n",
    "    "
   ]
  },
  {
   "cell_type": "code",
   "execution_count": 1,
   "metadata": {},
   "outputs": [
    {
     "name": "stdout",
     "output_type": "stream",
     "text": [
      "0\n",
      "1\n",
      "2\n",
      "3\n",
      "4\n",
      "5\n"
     ]
    }
   ],
   "source": [
    "for x in range(6):\n",
    "    print(x)"
   ]
  },
  {
   "cell_type": "code",
   "execution_count": 2,
   "metadata": {},
   "outputs": [
    {
     "name": "stdout",
     "output_type": "stream",
     "text": [
      "0\n",
      "1\n",
      "2\n",
      "3\n",
      "4\n",
      "5\n",
      "Done\n"
     ]
    }
   ],
   "source": [
    "for x in range(6):\n",
    "    print(x)\n",
    "else:  # else st will be executed once the for loop completely executed\n",
    "    print(\"Done\")\n"
   ]
  },
  {
   "cell_type": "code",
   "execution_count": 3,
   "metadata": {},
   "outputs": [
    {
     "name": "stdout",
     "output_type": "stream",
     "text": [
      "1\n",
      "2\n",
      "3\n"
     ]
    }
   ],
   "source": [
    "i=1\n",
    "while(i<4):\n",
    "    print(i)\n",
    "    i+=1    # i=i+1\n",
    "    "
   ]
  },
  {
   "cell_type": "code",
   "execution_count": 4,
   "metadata": {},
   "outputs": [
    {
     "name": "stdout",
     "output_type": "stream",
     "text": [
      "1\n",
      "2\n",
      "3\n",
      "i>4\n"
     ]
    }
   ],
   "source": [
    "i=1\n",
    "while(i<4):\n",
    "    print(i)\n",
    "    i+=1    # i=i+1\n",
    "else:    # else st is executed once the while loop is over \n",
    "    print(\"i>4\")\n",
    "    "
   ]
  },
  {
   "cell_type": "code",
   "execution_count": 5,
   "metadata": {},
   "outputs": [
    {
     "name": "stdout",
     "output_type": "stream",
     "text": [
      "0\n",
      "1\n",
      "2\n",
      "3\n",
      "4\n",
      "breaking the loop\n"
     ]
    }
   ],
   "source": [
    "#use of break st\n",
    "i=0\n",
    "while(i<7):\n",
    "    print(i)\n",
    "    if(i==4):\n",
    "        print(\"breaking the loop\")\n",
    "        break\n",
    "    i=i+1\n",
    "    "
   ]
  },
  {
   "cell_type": "code",
   "execution_count": 7,
   "metadata": {},
   "outputs": [
    {
     "name": "stdout",
     "output_type": "stream",
     "text": [
      "1\n",
      "0\n",
      "-1\n",
      "-2\n",
      "-3\n"
     ]
    }
   ],
   "source": [
    "# use of negative value for variable in loop\n",
    "i=1\n",
    "while(i>-4):\n",
    "    print(i)\n",
    "    i=i-1 "
   ]
  },
  {
   "cell_type": "code",
   "execution_count": 13,
   "metadata": {},
   "outputs": [
    {
     "name": "stdout",
     "output_type": "stream",
     "text": [
      "0\n",
      "1\n",
      "3\n",
      "5\n"
     ]
    }
   ],
   "source": [
    "# uuse of continue st\n",
    "for i in range(6):\n",
    "    if(i==2 or i==4):\n",
    "        continue  # following statements are skipped and the control goes back to for loop for the next value \n",
    "    print(i)"
   ]
  },
  {
   "cell_type": "code",
   "execution_count": 14,
   "metadata": {},
   "outputs": [
    {
     "name": "stdout",
     "output_type": "stream",
     "text": [
      "31\n",
      "99\n"
     ]
    }
   ],
   "source": [
    "#use of pass st\n",
    "for num in[31,22,44,54,99]:\n",
    "    if num%2==0:\n",
    "        pass  # used when no action is to done\n",
    "    else:\n",
    "        print(num)\n"
   ]
  },
  {
   "cell_type": "code",
   "execution_count": 22,
   "metadata": {},
   "outputs": [
    {
     "name": "stdout",
     "output_type": "stream",
     "text": [
      "Enter number 1  34\n",
      "Enter number 2  34\n",
      "Enter number 3  34\n",
      "All are equal\n",
      "the largest no is : 0\n"
     ]
    }
   ],
   "source": [
    "# textbook pgno216 ,ex 4\n",
    "largest=0\n",
    "num1=float(input(\"Enter number 1  \"))\n",
    "num2=float(input(\"Enter number 2  \"))\n",
    "num3=float(input(\"Enter number 3  \"))\n",
    "if(num1==num2==num3):\n",
    "    print(\"All are equal\")\n",
    "elif(num1>=num2) and (num1>=num3):\n",
    "     largest=num1\n",
    "elif(num2>=num1) and (num2>=num3):\n",
    "     largest=num2\n",
    "else:\n",
    "    largest=num3\n",
    "print(\"the largest no is :\",largest)\n",
    "    "
   ]
  },
  {
   "cell_type": "code",
   "execution_count": null,
   "metadata": {},
   "outputs": [],
   "source": []
  }
 ],
 "metadata": {
  "kernelspec": {
   "display_name": "Python 3",
   "language": "python",
   "name": "python3"
  },
  "language_info": {
   "codemirror_mode": {
    "name": "ipython",
    "version": 3
   },
   "file_extension": ".py",
   "mimetype": "text/x-python",
   "name": "python",
   "nbconvert_exporter": "python",
   "pygments_lexer": "ipython3",
   "version": "3.8.5"
  }
 },
 "nbformat": 4,
 "nbformat_minor": 4
}
